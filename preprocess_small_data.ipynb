{
 "cells": [
  {
   "cell_type": "code",
   "execution_count": 1,
   "metadata": {},
   "outputs": [],
   "source": [
    "import pandas as pd\n",
    "import numpy as np\n",
    "import os\n",
    "import openai\n",
    "from dotenv import load_dotenv\n",
    "\n",
    "load_dotenv()\n",
    "\n",
    "openai_api_key = os.getenv('OPENAI_API_KEY')\n",
    "openai.api_key = openai_api_key\n",
    "\n",
    "# imports\n",
    "import tiktoken\n",
    "\n",
    "from openai.embeddings_utils import get_embedding\n",
    "# embedding model parameters\n",
    "embedding_model = \"text-embedding-ada-002\"\n",
    "embedding_encoding = \"cl100k_base\"  # this the encoding for text-embedding-ada-002\n",
    "max_tokens = 8000  # the maximum for text-embedding-ada-002 is 8191\n",
    "input_datapath = \"data/BigBazaar.csv\"  # to save space, we provide a pre-filtered dataset\n",
    "df = pd.read_csv(input_datapath)"
   ]
  },
  {
   "cell_type": "code",
   "execution_count": 2,
   "metadata": {},
   "outputs": [],
   "source": [
    "# load & inspect dataset\n",
    "# columns: Brand\tPrice\tDiscountedPrice\tBreadCrumbs\tCategory\tSubCategory\tQuantity\tDescription\tLongDescription\n",
    "df = df.dropna()\n",
    "# convert all columns to string\n",
    "df = df.astype(str)"
   ]
  },
  {
   "cell_type": "code",
   "execution_count": 3,
   "metadata": {},
   "outputs": [],
   "source": [
    "# add all columns data into one columns\n",
    "df[\"combined\"] = (\n",
    "    \"Name: \" + df.Name.str.strip() +\" ; \"+ \n",
    "    \"Brand: \" + df.Brand.str.strip() +\" ; \"+ \n",
    "    \"Price: \" + df.Price.str.strip() +\" ; \"+\n",
    "    \"DiscountedPrice: \" + df.DiscountedPrice.str.strip() +\" ; \"+\n",
    "    \"BreadCrumbs: \" + df.BreadCrumbs.str.strip() +\" ; \"+\n",
    "    \"Category: \" + df.Category.str.strip() +\" ; \"+\n",
    "    \"SubCategory: \" + df.SubCategory.str.strip() +\" ; \"+\n",
    "    \"Quantity: \" + df.Quantity.str.strip() +\" ; \"+\n",
    "    \"Description: \" + df.Description.str.strip() +\" ; \"+\n",
    "    \"LongDescription: \" + df.LongDescription.str.strip()\n",
    ")"
   ]
  },
  {
   "cell_type": "code",
   "execution_count": 4,
   "metadata": {},
   "outputs": [
    {
     "data": {
      "text/plain": [
       "1000"
      ]
     },
     "execution_count": 4,
     "metadata": {},
     "output_type": "execute_result"
    }
   ],
   "source": [
    "encoding = tiktoken.get_encoding(embedding_encoding)\n",
    "top_n = 1000\n",
    "df[\"n_tokens\"] = df.combined.apply(lambda x: len(encoding.encode(x)))\n",
    "#sort df with n_tokens in descending order and choose top_n \n",
    "df = df.sort_values(\"n_tokens\", ascending=False)\n",
    "df = df[df.n_tokens <= max_tokens].head(top_n)\n",
    "len(df)"
   ]
  },
  {
   "cell_type": "code",
   "execution_count": 5,
   "metadata": {},
   "outputs": [
    {
     "data": {
      "text/plain": [
       "429"
      ]
     },
     "execution_count": 5,
     "metadata": {},
     "output_type": "execute_result"
    }
   ],
   "source": [
    "df[\"n_words\"] = df.combined.apply(lambda x: len(x.split()))\n",
    "df.n_words.max()\n"
   ]
  },
  {
   "cell_type": "code",
   "execution_count": 6,
   "metadata": {},
   "outputs": [
    {
     "name": "stdout",
     "output_type": "stream",
     "text": [
      "236168\n"
     ]
    }
   ],
   "source": [
    "total_tokens = df.n_tokens.sum()\n",
    "print(total_tokens)"
   ]
  },
  {
   "cell_type": "code",
   "execution_count": 7,
   "metadata": {},
   "outputs": [],
   "source": [
    "df[\"embedding\"] = df.combined.apply(lambda x: get_embedding(x, engine=embedding_model))\n",
    "df.to_csv(\"data/BigBazaar_head_1000_vector_db.csv\")"
   ]
  },
  {
   "cell_type": "code",
   "execution_count": 8,
   "metadata": {},
   "outputs": [
    {
     "data": {
      "text/html": [
       "<div>\n",
       "<style scoped>\n",
       "    .dataframe tbody tr th:only-of-type {\n",
       "        vertical-align: middle;\n",
       "    }\n",
       "\n",
       "    .dataframe tbody tr th {\n",
       "        vertical-align: top;\n",
       "    }\n",
       "\n",
       "    .dataframe thead th {\n",
       "        text-align: right;\n",
       "    }\n",
       "</style>\n",
       "<table border=\"1\" class=\"dataframe\">\n",
       "  <thead>\n",
       "    <tr style=\"text-align: right;\">\n",
       "      <th></th>\n",
       "      <th>Name</th>\n",
       "      <th>Brand</th>\n",
       "      <th>Price</th>\n",
       "      <th>DiscountedPrice</th>\n",
       "      <th>BreadCrumbs</th>\n",
       "      <th>Category</th>\n",
       "      <th>SubCategory</th>\n",
       "      <th>Quantity</th>\n",
       "      <th>Description</th>\n",
       "      <th>LongDescription</th>\n",
       "      <th>combined</th>\n",
       "      <th>n_tokens</th>\n",
       "      <th>n_words</th>\n",
       "      <th>embedding</th>\n",
       "    </tr>\n",
       "  </thead>\n",
       "  <tbody>\n",
       "    <tr>\n",
       "      <th>23946</th>\n",
       "      <td>1 Litre Cordless Electric Kettle 1100W KEK104R...</td>\n",
       "      <td>KORYO</td>\n",
       "      <td>1,299.00</td>\n",
       "      <td>699.0</td>\n",
       "      <td>Kitchen Appliances / Home &amp; Kitchen Appliances</td>\n",
       "      <td>Kitchen Appliances</td>\n",
       "      <td>Home &amp; Kitchen Appliances</td>\n",
       "      <td>1 Pcs</td>\n",
       "      <td></td>\n",
       "      <td>\\n &lt;li class=\"MsoNormal\" style=\"color:black;ms...</td>\n",
       "      <td>Name: 1 Litre Cordless Electric Kettle 1100W K...</td>\n",
       "      <td>638</td>\n",
       "      <td>168</td>\n",
       "      <td>[0.027253031730651855, -0.01505531556904316, -...</td>\n",
       "    </tr>\n",
       "    <tr>\n",
       "      <th>26504</th>\n",
       "      <td>GX 3701 750W Mixer Grinder with Nutri-Pro Feat...</td>\n",
       "      <td>Bajaj</td>\n",
       "      <td>5,350.00</td>\n",
       "      <td>3999.0</td>\n",
       "      <td>Electronics / Kitchen Appliances / Home &amp; Kitc...</td>\n",
       "      <td>Electronics</td>\n",
       "      <td>Home &amp; Kitchen Appliances</td>\n",
       "      <td>1 Pcs</td>\n",
       "      <td></td>\n",
       "      <td>\\n &lt;li class=\"MsoListParagraph\" style=\"color:#...</td>\n",
       "      <td>Name: GX 3701 750W Mixer Grinder with Nutri-Pr...</td>\n",
       "      <td>611</td>\n",
       "      <td>196</td>\n",
       "      <td>[0.002546899951994419, -0.0013742265291512012,...</td>\n",
       "    </tr>\n",
       "    <tr>\n",
       "      <th>18698</th>\n",
       "      <td>Mixing Bowl - Oven &amp; Microwave Safe, 900 ml</td>\n",
       "      <td>BOROSIL</td>\n",
       "      <td>410</td>\n",
       "      <td>369.0</td>\n",
       "      <td>Cooking and Baking / Bakeware</td>\n",
       "      <td>Cooking and Baking</td>\n",
       "      <td>Bakeware</td>\n",
       "      <td>1 Pcs</td>\n",
       "      <td></td>\n",
       "      <td>Colour TransparentPattern BowlItem Dimensions ...</td>\n",
       "      <td>Name: Mixing Bowl - Oven &amp; Microwave Safe, 900...</td>\n",
       "      <td>594</td>\n",
       "      <td>420</td>\n",
       "      <td>[-0.0077776857651770115, -0.029939765110611916...</td>\n",
       "    </tr>\n",
       "    <tr>\n",
       "      <th>3287</th>\n",
       "      <td>Mouthwash Fresh Tea</td>\n",
       "      <td>Colgate</td>\n",
       "      <td>150</td>\n",
       "      <td>99.99</td>\n",
       "      <td>Personal Care / Oral Care</td>\n",
       "      <td>Personal Care</td>\n",
       "      <td>Oral Care</td>\n",
       "      <td>250 ml</td>\n",
       "      <td></td>\n",
       "      <td>Colgate Plax Fresh Tea mouthwash removes over ...</td>\n",
       "      <td>Name: Mouthwash Fresh Tea ; Brand: Colgate ; P...</td>\n",
       "      <td>585</td>\n",
       "      <td>429</td>\n",
       "      <td>[0.011543926782906055, 0.002320263534784317, 0...</td>\n",
       "    </tr>\n",
       "    <tr>\n",
       "      <th>397</th>\n",
       "      <td>Glasstop Gas Stove Premia 2 Burner D</td>\n",
       "      <td>PRESTIGE</td>\n",
       "      <td>10,195.00</td>\n",
       "      <td>7136.5</td>\n",
       "      <td>Cooking and Baking / Gas stove &amp; Induction</td>\n",
       "      <td>Cooking and Baking</td>\n",
       "      <td>Gas stove &amp; Induction</td>\n",
       "      <td>1 Pcs</td>\n",
       "      <td></td>\n",
       "      <td>Gas stove type: Manual; Burner material: Brass...</td>\n",
       "      <td>Name: Glasstop Gas Stove Premia 2 Burner D ; B...</td>\n",
       "      <td>583</td>\n",
       "      <td>390</td>\n",
       "      <td>[0.01492131408303976, -0.005848828703165054, -...</td>\n",
       "    </tr>\n",
       "  </tbody>\n",
       "</table>\n",
       "</div>"
      ],
      "text/plain": [
       "                                                    Name     Brand      Price  \\\n",
       "23946  1 Litre Cordless Electric Kettle 1100W KEK104R...     KORYO   1,299.00   \n",
       "26504  GX 3701 750W Mixer Grinder with Nutri-Pro Feat...     Bajaj   5,350.00   \n",
       "18698        Mixing Bowl - Oven & Microwave Safe, 900 ml   BOROSIL        410   \n",
       "3287                                 Mouthwash Fresh Tea   Colgate        150   \n",
       "397                 Glasstop Gas Stove Premia 2 Burner D  PRESTIGE  10,195.00   \n",
       "\n",
       "      DiscountedPrice                                        BreadCrumbs  \\\n",
       "23946           699.0     Kitchen Appliances / Home & Kitchen Appliances   \n",
       "26504          3999.0  Electronics / Kitchen Appliances / Home & Kitc...   \n",
       "18698           369.0                      Cooking and Baking / Bakeware   \n",
       "3287            99.99                          Personal Care / Oral Care   \n",
       "397            7136.5         Cooking and Baking / Gas stove & Induction   \n",
       "\n",
       "                 Category                SubCategory Quantity Description  \\\n",
       "23946  Kitchen Appliances  Home & Kitchen Appliances    1 Pcs               \n",
       "26504         Electronics  Home & Kitchen Appliances    1 Pcs               \n",
       "18698  Cooking and Baking                   Bakeware    1 Pcs               \n",
       "3287        Personal Care                  Oral Care   250 ml               \n",
       "397    Cooking and Baking      Gas stove & Induction    1 Pcs               \n",
       "\n",
       "                                         LongDescription  \\\n",
       "23946  \\n <li class=\"MsoNormal\" style=\"color:black;ms...   \n",
       "26504  \\n <li class=\"MsoListParagraph\" style=\"color:#...   \n",
       "18698  Colour TransparentPattern BowlItem Dimensions ...   \n",
       "3287   Colgate Plax Fresh Tea mouthwash removes over ...   \n",
       "397    Gas stove type: Manual; Burner material: Brass...   \n",
       "\n",
       "                                                combined  n_tokens  n_words  \\\n",
       "23946  Name: 1 Litre Cordless Electric Kettle 1100W K...       638      168   \n",
       "26504  Name: GX 3701 750W Mixer Grinder with Nutri-Pr...       611      196   \n",
       "18698  Name: Mixing Bowl - Oven & Microwave Safe, 900...       594      420   \n",
       "3287   Name: Mouthwash Fresh Tea ; Brand: Colgate ; P...       585      429   \n",
       "397    Name: Glasstop Gas Stove Premia 2 Burner D ; B...       583      390   \n",
       "\n",
       "                                               embedding  \n",
       "23946  [0.027253031730651855, -0.01505531556904316, -...  \n",
       "26504  [0.002546899951994419, -0.0013742265291512012,...  \n",
       "18698  [-0.0077776857651770115, -0.029939765110611916...  \n",
       "3287   [0.011543926782906055, 0.002320263534784317, 0...  \n",
       "397    [0.01492131408303976, -0.005848828703165054, -...  "
      ]
     },
     "execution_count": 8,
     "metadata": {},
     "output_type": "execute_result"
    }
   ],
   "source": [
    "df.head()"
   ]
  },
  {
   "cell_type": "code",
   "execution_count": null,
   "metadata": {},
   "outputs": [],
   "source": []
  }
 ],
 "metadata": {
  "kernelspec": {
   "display_name": "s2s_cs",
   "language": "python",
   "name": "python3"
  },
  "language_info": {
   "codemirror_mode": {
    "name": "ipython",
    "version": 3
   },
   "file_extension": ".py",
   "mimetype": "text/x-python",
   "name": "python",
   "nbconvert_exporter": "python",
   "pygments_lexer": "ipython3",
   "version": "3.11.4"
  }
 },
 "nbformat": 4,
 "nbformat_minor": 2
}
